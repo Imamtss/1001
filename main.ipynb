{
 "cells": [
  {
   "cell_type": "markdown",
   "metadata": {},
   "source": [
    "### 实验得到的checkpoint未保存，每次训练过程都会自动保存更优预测结果，大致的修改操作为：\n",
    "### 1.对网络结构的修改主要包括：增加残差块以及bn操作，减小了下采样的尺寸并采用平均池化，增加了网络层数，使用用大小为3的一维卷积，激活函数替换为LeakyReLU。\n",
    "### 2.取消了数据标准化的操作，取得部分数据进行数据增强，主要是添加高斯噪声，提升比较有限。\n",
    "### 3.目前测试的最有学习率在0.002附近，batch_size为32\n",
    "### 4.具体对baseline的修改已在代码注释中给出"
   ]
  },
  {
   "cell_type": "markdown",
   "metadata": {},
   "source": [
    "## 赛事介绍\n",
    "如今的智能机已经很智能了，如果手机可以觉察到我们在生活中的一举一动，知道我们行动的意图，你觉得会如何？智能手机不仅搭载了多种惯性传感器，这使得基于智能手机的人体行为识别研究越来越受关注。\n",
    "\n",
    "![](https://ai-studio-static-online.cdn.bcebos.com/849f5b245156468c850ad6adad6f5ba649184a062cb44d128ba504c61652ae8a)\n",
    "\n",
    "在本次赛题由志愿者使用智能手机时，通过基本活动的行为构建而成。希望选手能够构建模型对活动行为进行预测。\n",
    "\n",
    "## 赛事任务\n",
    "实验是在 19-48 岁年龄段的 30 名志愿者中进行的。每个人在腰部佩戴智能手机（三星 Galaxy S II）进行六项活动（步行、楼上步行、楼下步行、坐、站、躺）。实验以 50Hz 的恒定速率捕获 3 轴线性加速度和 3 轴角速度。\n",
    "\n",
    "赛题训练集案例如下：\n",
    "- 训练集8千条数据；\n",
    "- 测试集共2000条数据；\n",
    "\n",
    "数据总共100MB，赛题数据均为csv格式，列使用逗号分割。若使用Pandas读取数据，可参考如下代码：\n",
    "\n",
    "```\n",
    "import pandas as pd\n",
    "import numpy as np\n",
    "\n",
    "train = pd.read_csv('train.csv.zip')\n",
    "```\n",
    "\n",
    "对于数据集中的每一条记录，都提供了以下内容，来自加速度计的三轴加速度（总加速度）和估计的身体加速度、和来自陀螺仪的三轴角速度。总共是具有时域和频域变量的561个特征向量。\n",
    "\n",
    "测试集中label字段Activity为空，需要选手预测。\n",
    "\n",
    "## 评审规则\n",
    "\n",
    "1. 数据说明：选手需要提交测试集队伍排名预测，具体的提交格式如下：\n",
    "```\n",
    "Activity\n",
    "STANDING\n",
    "LAYING\n",
    "WALKING\n",
    "SITTING\n",
    "WALKING\n",
    "WALKING_DOWNSTAIRS\n",
    "STANDING\n",
    "```\n",
    "\n",
    "2. 评估指标：本次竞赛的使用准确率进行评分，数值越高精度越高，评估代码参考：\n",
    "```\n",
    "from sklearn.metrics import accuracy_score\n",
    "y_pred = [0, 2, 1, 3]\n",
    "y_true = [0, 1, 2, 3]\n",
    "accuracy_score(y_true, y_pred)\n",
    "```"
   ]
  },
  {
   "cell_type": "markdown",
   "metadata": {},
   "source": [
    "## Baseline使用指导\n",
    "1、点击‘fork按钮’，出现‘fork项目’弹窗         \n",
    "2、点击‘创建按钮’ ，出现‘运行项目’弹窗    \n",
    "3、点击‘运行项目’，自动跳转至新页面      \n",
    "4、点击‘启动环境’ ，出现‘选择运行环境’弹窗     \n",
    "5、选择运行环境（启动项目需要时间，请耐心等待），出现‘环境启动成功’弹窗，点击确定        \n",
    "6、点击进入环境，即可进入notebook环境      \n",
    "7、鼠标移至下方每个代码块内（代码块左侧边框会变成浅蓝色），再依次点击每个代码块左上角的‘三角形运行按钮’，待一个模块运行完以后再运行下一个模块，直至全部运行完成  \n",
    "![](https://ai-studio-static-online.cdn.bcebos.com/226c72f88f5b4e9d8a55e59129e4c79770aa200f10ef413ca1420ae7d273bc88)  \n",
    "![](https://ai-studio-static-online.cdn.bcebos.com/866a22a341d64166aaf9a8a3abee09b5a6e2d0cba1c649bb8bdef6b2ad7955f1)  \n",
    "    \n",
    "8、下载页面左侧submission.zip压缩包  \n",
    "![](https://ai-studio-static-online.cdn.bcebos.com/b7f3076301e34462abaf2013dcdbf10a5dcbfe287d5845f1869493e578391f7a)  \n",
    "     \n",
    "9、在比赛页提交submission.zip压缩包，等待系统评测结束后，即可登榜！    \n",
    "![](https://ai-studio-static-online.cdn.bcebos.com/95a9fc4140144a2d8a76258f7a536751c5c6969994154d3da71c80e23757c6c8)  \n",
    "       \n",
    "10、点击页面左侧‘版本-生成新版本’  \n",
    "![](https://ai-studio-static-online.cdn.bcebos.com/e62d0f5ca1454f7485c3eb1351823315480356cafad143c2ab2ff065f95104fe)  \n",
    "        \n",
    "11、填写‘版本名称’，点击‘生成版本按钮’，即可在个人主页查看到该项目（可选择公开此项目哦）  "
   ]
  },
  {
   "cell_type": "markdown",
   "metadata": {},
   "source": [
    "## 数据分析"
   ]
  },
  {
   "cell_type": "code",
   "execution_count": 25,
   "metadata": {
    "collapsed": false,
    "jupyter": {
     "outputs_hidden": false
    },
    "scrolled": true
   },
   "outputs": [
    {
     "name": "stdout",
     "output_type": "stream",
     "text": [
      "Populating the interactive namespace from numpy and matplotlib\n"
     ]
    }
   ],
   "source": [
    "import pandas as pd\n",
    "import paddle\n",
    "import numpy as np\n",
    "\n",
    "%pylab inline\n",
    "import seaborn as sns\n",
    "\n",
    "train_df = pd.read_csv('data/data137267/train.csv.zip')\n",
    "test_df = pd.read_csv('data/data137267/test.csv.zip')\n",
    "part1 = pd.read_csv('data/data137267/98.csv')\n",
    "part2 = pd.read_csv('data/data137267/97.95.csv')\n",
    "part3 = pd.read_csv('data/data137267/97.85.csv')\n",
    "part4 = pd.read_csv('data/data137267/97.81.csv')\n",
    "part5 = pd.read_csv('data/data137267/97.80.csv')\n"
   ]
  },
  {
   "cell_type": "code",
   "execution_count": 26,
   "metadata": {
    "collapsed": false,
    "jupyter": {
     "outputs_hidden": false
    },
    "scrolled": true
   },
   "outputs": [],
   "source": [
    "#提升数据上限，将多次预测测试集合中预测相同的结果认为是正确的分类结果，将该部分数据作为训练数据\n",
    "temp = [] \n",
    "for i in range(part1.shape[0]):\n",
    "    if part1.iloc[[i],[-1]].values[0][0] == part2.iloc[[i],[-1]].values[0][0]==part3.iloc[[i],[-1]].values[0][0]==part4.iloc[[i],[-1]].values[0][0]==part5.iloc[[i],[-1]]\\\n",
    "    .values[0][0]:\n",
    "        temp.append(i)"
   ]
  },
  {
   "cell_type": "code",
   "execution_count": 27,
   "metadata": {
    "collapsed": false,
    "jupyter": {
     "outputs_hidden": false
    },
    "scrolled": true
   },
   "outputs": [],
   "source": [
    "new_data = test_df.iloc[[0],:]\n",
    "for i in temp[1:]:\n",
    "    new_data = pd.concat([new_data, test_df.iloc[[i],:]], ignore_index=True)"
   ]
  },
  {
   "cell_type": "code",
   "execution_count": 28,
   "metadata": {
    "collapsed": false,
    "jupyter": {
     "outputs_hidden": false
    },
    "scrolled": true
   },
   "outputs": [],
   "source": [
    "new_lable = part1.iloc[[0],:]\n",
    "for i in temp[1:]:\n",
    "    new_lable = pd.concat([new_lable, part1.iloc[[i],:]], ignore_index=True)"
   ]
  },
  {
   "cell_type": "code",
   "execution_count": 29,
   "metadata": {
    "collapsed": false,
    "jupyter": {
     "outputs_hidden": false
    },
    "scrolled": true
   },
   "outputs": [],
   "source": [
    "new_data = pd.concat([new_data, new_lable], ignore_index=False,axis=1)"
   ]
  },
  {
   "cell_type": "code",
   "execution_count": 30,
   "metadata": {
    "collapsed": false,
    "jupyter": {
     "outputs_hidden": false
    },
    "scrolled": true
   },
   "outputs": [
    {
     "data": {
      "text/plain": [
       "(8000, 562)"
      ]
     },
     "execution_count": 30,
     "metadata": {},
     "output_type": "execute_result"
    }
   ],
   "source": [
    "train_df.shape"
   ]
  },
  {
   "cell_type": "code",
   "execution_count": 31,
   "metadata": {
    "collapsed": false,
    "jupyter": {
     "outputs_hidden": false
    },
    "scrolled": true
   },
   "outputs": [
    {
     "data": {
      "text/plain": [
       "Index(['tBodyAcc-mean()-X', 'tBodyAcc-mean()-Y', 'tBodyAcc-mean()-Z',\n",
       "       'tBodyAcc-std()-X', 'tBodyAcc-std()-Y', 'tBodyAcc-std()-Z',\n",
       "       'tBodyAcc-mad()-X', 'tBodyAcc-mad()-Y', 'tBodyAcc-mad()-Z',\n",
       "       'tBodyAcc-max()-X',\n",
       "       ...\n",
       "       'fBodyBodyGyroJerkMag-skewness()', 'fBodyBodyGyroJerkMag-kurtosis()',\n",
       "       'angle(tBodyAccMean,gravity)', 'angle(tBodyAccJerkMean),gravityMean)',\n",
       "       'angle(tBodyGyroMean,gravityMean)',\n",
       "       'angle(tBodyGyroJerkMean,gravityMean)', 'angle(X,gravityMean)',\n",
       "       'angle(Y,gravityMean)', 'angle(Z,gravityMean)', 'Activity'],\n",
       "      dtype='object', length=562)"
      ]
     },
     "execution_count": 31,
     "metadata": {},
     "output_type": "execute_result"
    }
   ],
   "source": [
    "train_df.columns"
   ]
  },
  {
   "cell_type": "code",
   "execution_count": 32,
   "metadata": {
    "collapsed": false,
    "jupyter": {
     "outputs_hidden": false
    },
    "scrolled": true
   },
   "outputs": [
    {
     "data": {
      "text/plain": [
       "<matplotlib.axes._subplots.AxesSubplot at 0x7f5d8fad7cd0>"
      ]
     },
     "execution_count": 32,
     "metadata": {},
     "output_type": "execute_result"
    },
    {
     "data": {
      "image/png": "[encoded data removed]",
      "text/plain": [
       "<Figure size 432x288 with 1 Axes>"
      ]
     },
     "metadata": {},
     "output_type": "display_data"
    }
   ],
   "source": [
    "train_df['Activity'].value_counts().plot(kind='bar')"
   ]
  },
  {
   "cell_type": "code",
   "execution_count": 33,
   "metadata": {
    "collapsed": false,
    "jupyter": {
     "outputs_hidden": false
    },
    "scrolled": true
   },
   "outputs": [
    {
     "name": "stderr",
     "output_type": "stream",
     "text": [
      "/opt/conda/envs/python35-paddle120-env/lib/python3.7/site-packages/seaborn/categorical.py:340: DeprecationWarning: `np.float` is a deprecated alias for the builtin `float`. To silence this warning, use `float` by itself. Doing this will not modify any behavior and is safe. If you specifically wanted the numpy scalar type, use `np.float64` here.\n",
      "Deprecated in NumPy 1.20; for more details and guidance: https://numpy.org/devdocs/release/1.20.0-notes.html#deprecations\n",
      "  np.asarray(s, dtype=np.float)\n",
      "/opt/conda/envs/python35-paddle120-env/lib/python3.7/site-packages/seaborn/utils.py:538: DeprecationWarning: `np.float` is a deprecated alias for the builtin `float`. To silence this warning, use `float` by itself. Doing this will not modify any behavior and is safe. If you specifically wanted the numpy scalar type, use `np.float64` here.\n",
      "Deprecated in NumPy 1.20; for more details and guidance: https://numpy.org/devdocs/release/1.20.0-notes.html#deprecations\n",
      "  np.asarray(values).astype(np.float)\n"
     ]
    },
    {
     "data": {
      "image/png": "[encoded data removed]",
      "text/plain": [
       "<Figure size 720x360 with 1 Axes>"
      ]
     },
     "metadata": {},
     "output_type": "display_data"
    }
   ],
   "source": [
    "plt.figure(figsize=(10, 5))\n",
    "sns.boxplot(y='tBodyAcc-mean()-X', x='Activity', data=train_df)\n",
    "plt.tight_layout()"
   ]
  },
  {
   "cell_type": "code",
   "execution_count": 34,
   "metadata": {
    "collapsed": false,
    "jupyter": {
     "outputs_hidden": false
    },
    "scrolled": true
   },
   "outputs": [],
   "source": [
    "from paddle.io import Dataset"
   ]
  },
  {
   "cell_type": "code",
   "execution_count": 35,
   "metadata": {
    "collapsed": false,
    "jupyter": {
     "outputs_hidden": false
    },
    "scrolled": true
   },
   "outputs": [],
   "source": [
    "train_df['Activity'] = train_df['Activity'].map({\n",
    "    'LAYING': 0,\n",
    "    'STANDING': 1,\n",
    "    'SITTING': 2,\n",
    "    'WALKING': 3,\n",
    "    'WALKING_UPSTAIRS': 4,\n",
    "    'WALKING_DOWNSTAIRS': 5\n",
    "})\n",
    "new_data['Activity'] = new_data['Activity'].map({\n",
    "    'LAYING': 0,\n",
    "    'STANDING': 1,\n",
    "    'SITTING': 2,\n",
    "    'WALKING': 3,\n",
    "    'WALKING_UPSTAIRS': 4,\n",
    "    'WALKING_DOWNSTAIRS': 5\n",
    "})"
   ]
  },
  {
   "cell_type": "code",
   "execution_count": 36,
   "metadata": {
    "collapsed": false,
    "jupyter": {
     "outputs_hidden": false
    },
    "scrolled": true
   },
   "outputs": [],
   "source": [
    "from paddle.io import Dataset"
   ]
  },
  {
   "cell_type": "code",
   "execution_count": 37,
   "metadata": {
    "collapsed": false,
    "jupyter": {
     "outputs_hidden": false
    },
    "scrolled": true
   },
   "outputs": [],
   "source": [
    "# from sklearn.preprocessing import StandardScaler\n",
    "\n",
    "# scaler = StandardScaler()\n",
    "# scaler.fit(train_df.values[:, :-1])\n",
    "# train_df.iloc[:, :-1] = scaler.transform(train_df.values[:, :-1])\n",
    "# test_df.iloc[:, :] = scaler.transform(test_df.values)"
   ]
  },
  {
   "cell_type": "code",
   "execution_count": 38,
   "metadata": {
    "collapsed": false,
    "jupyter": {
     "outputs_hidden": false
    },
    "scrolled": true
   },
   "outputs": [],
   "source": [
    "# import random\n",
    "\n",
    "# train_df4 = train_df[:-500].sample(n=None, frac=0.6, replace=False, weights=None, random_state=0, axis=None)\n",
    "\n",
    "# for i in range(0,train_df3.shape[0]):\n",
    "#     for j in range(0,train_df4.shape[1]-1):\n",
    "#         train_df.iloc[[i], [j]] += random.gauss(0, 0.05)\n",
    "# train_df = pd.concat([train_df, train_df4], ignore_index=True)"
   ]
  },
  {
   "cell_type": "markdown",
   "metadata": {},
   "source": [
    "## 为数据添加高斯噪声"
   ]
  },
  {
   "cell_type": "code",
   "execution_count": null,
   "metadata": {
    "collapsed": false,
    "jupyter": {
     "outputs_hidden": false
    },
    "scrolled": true
   },
   "outputs": [],
   "source": [
    "#视具体情况添加高斯噪声，并不是所有情况下都有较好的效果\n",
    "import random\n",
    "\n",
    "train_df5 = train_df[:-1000].sample(n=None, frac=0.5, replace=False, weights=None, random_state=None, axis=None)\n",
    "\n",
    "for i in range(0,train_df5.shape[0]):\n",
    "    for j in range(0,train_df5.shape[1]-1):\n",
    "        train_df5.iloc[[i], [j]] += random.gauss(0, 0.03)\n",
    "train_df = pd.concat([train_df, train_df5], ignore_index=True)"
   ]
  },
  {
   "cell_type": "markdown",
   "metadata": {},
   "source": [
    "## 搭建模型"
   ]
  },
  {
   "cell_type": "code",
   "execution_count": 39,
   "metadata": {
    "collapsed": false,
    "jupyter": {
     "outputs_hidden": false
    },
    "scrolled": true
   },
   "outputs": [],
   "source": [
    "class Classifier(paddle.nn.Layer):\n",
    "    # self代表类的实例自身\n",
    "    def __init__(self):\n",
    "        # 初始化父类中的一些参数\n",
    "        super(Classifier, self).__init__()\n",
    "        \n",
    "        self.conv1_1 = paddle.nn.Conv1D(in_channels=1, out_channels=1, kernel_size=1)\n",
    "        self.conv1_2 = paddle.nn.Conv1D(in_channels=16, out_channels=16, kernel_size=3)\n",
    "        self.conv1_3 = paddle.nn.Conv1D(in_channels=1, out_channels=16, kernel_size=3)\n",
    "\n",
    "\n",
    "        self.conv2_1 = paddle.nn.Conv1D(in_channels=32, out_channels=32, kernel_size=1)\n",
    "        self.conv2_2 = paddle.nn.Conv1D(in_channels=32, out_channels=32, kernel_size=3)\n",
    "        self.conv2_3 = paddle.nn.Conv1D(in_channels=16, out_channels=32, kernel_size=3)\n",
    "\n",
    "\n",
    "    \n",
    "        self.conv3_1 = paddle.nn.Conv1D(in_channels=32, out_channels=32, kernel_size=1)\n",
    "        self.conv3_2 = paddle.nn.Conv1D(in_channels=64, out_channels=64, kernel_size=3)\n",
    "        self.conv3_3 = paddle.nn.Conv1D(in_channels=32, out_channels=64, kernel_size=3)\n",
    "\n",
    "       \n",
    "        self.conv4_3 = paddle.nn.Conv1D(in_channels=64, out_channels=128, kernel_size=3)\n",
    "\n",
    "\n",
    "        self.conv5_3 = paddle.nn.Conv1D(in_channels=128, out_channels=256, kernel_size=3)\n",
    "\n",
    "\n",
    "        self.flatten = paddle.nn.Flatten()\n",
    "        self.dropout = paddle.nn.Dropout()\n",
    "        self.fc = paddle.nn.Linear(in_features=256, out_features=6)\n",
    "        #使用LeakyReLU效果更优\n",
    "        self.relu = paddle.nn.LeakyReLU(0.4)\n",
    "        #使用平均池化，长度为3\n",
    "        self.pool = paddle.nn.AvgPool1D(3)\n",
    "        self.bn0 = paddle.nn.BatchNorm1D(1)\n",
    "        self.bn1 = paddle.nn.BatchNorm1D(16)\n",
    "        self.bn2 = paddle.nn.BatchNorm1D(32)\n",
    "        self.bn3 = paddle.nn.BatchNorm1D(64)\n",
    "        self.bn4 = paddle.nn.BatchNorm1D(128)\n",
    "        self.bn5 = paddle.nn.BatchNorm1D(256)\n",
    "\n",
    "        self.softmax = paddle.nn.Softmax()\n",
    "\n",
    "\n",
    "    # 网络的前向计算\n",
    "    #为每一层的featuremap加上bn操作，加速收敛，采用长度为3的一维卷积，该题目对长度为3的卷积核较为友好\n",
    "    def forward(self, inputs):\n",
    "        x = self.relu(self.bn0(self.conv1_1(inputs)))\n",
    "        # x = self.relu(self.bn1(self.conv1_2(x)))\n",
    "        #实验发现在其它层加入残差块的效果并不理想，仅对该层进行残差拟合效果较为理想\n",
    "        x = paddle.add(x,inputs)\n",
    "        x = self.pool(self.relu(self.bn1(self.conv1_3(x))))\n",
    "\n",
    "\n",
    "        # x = self.relu(self.bn2(self.conv2_1(x)))\n",
    "        # x = self.relu(self.bn2(self.conv2_2(x)))\n",
    "        x = self.pool(self.relu(self.bn2(self.conv2_3(x))))\n",
    "        \n",
    "        \n",
    "        # x = self.relu(self.bn3(self.conv3_1(x)))\n",
    "        # x = self.relu(self.bn3(self.conv3_2(x)))\n",
    "        x = self.pool(self.relu(self.bn3(self.conv3_3(x))))\n",
    "\n",
    "        x = self.pool(self.relu(self.bn4(self.conv4_3(x))))\n",
    "\n",
    "        x = self.pool(self.relu(self.bn5(self.conv5_3(x))))\n",
    "\n",
    "        # x = self.dropout(x)\n",
    "\n",
    "        x = self.flatten(x)\n",
    "        \n",
    "        x = self.dropout(x)\n",
    "\n",
    "        x = self.relu(self.fc(x))\n",
    "        x = self.softmax(x)\n",
    "        return x"
   ]
  },
  {
   "cell_type": "code",
   "execution_count": 40,
   "metadata": {
    "collapsed": false,
    "jupyter": {
     "outputs_hidden": false
    },
    "scrolled": true
   },
   "outputs": [],
   "source": [
    "model = Classifier()\n",
    "model.train()\n",
    "opt = paddle.optimizer.AdamW(learning_rate=0.002, parameters=model.parameters())\n",
    "# opt = paddle.optimizer.Momentum(learning_rate=0.005, parameters=model.parameters(), weight_decay=0.0002)\n",
    "loss_fn = paddle.nn.CrossEntropyLoss()"
   ]
  },
  {
   "cell_type": "code",
   "execution_count": 41,
   "metadata": {
    "collapsed": false,
    "jupyter": {
     "outputs_hidden": false
    },
    "scrolled": true
   },
   "outputs": [],
   "source": [
    "EPOCH_NUM = 20000   # 设置外层循环次数\n",
    "BATCH_SIZE = 32  # 设置batch大小\n",
    "\n",
    "training_data = (pd.concat([train_df.iloc[:7000], new_data], ignore_index=True)).values.astype(np.float32)\n",
    "# val_data = train_df.iloc[7000:8000].values.astype(np.float32)\n",
    "\n",
    "# training_data = train_df.iloc[:7000].values.astype(np.float32)\n",
    "val_data = train_df.iloc[7000:8000].values.astype(np.float32)\n",
    "\n",
    "training_data = training_data.reshape(-1, 1, 562)\n",
    "val_data = val_data.reshape(-1, 1, 562)"
   ]
  },
  {
   "cell_type": "code",
   "execution_count": 42,
   "metadata": {
    "collapsed": false,
    "jupyter": {
     "outputs_hidden": false
    },
    "scrolled": true
   },
   "outputs": [
    {
     "data": {
      "text/plain": [
       "(8968, 1, 562)"
      ]
     },
     "execution_count": 42,
     "metadata": {},
     "output_type": "execute_result"
    }
   ],
   "source": [
    "training_data.shape"
   ]
  },
  {
   "cell_type": "code",
   "execution_count": 24,
   "metadata": {
    "collapsed": false,
    "jupyter": {
     "outputs_hidden": false
    },
    "scrolled": true
   },
   "outputs": [
    {
     "name": "stderr",
     "output_type": "stream",
     "text": [
      "/opt/conda/envs/python35-paddle120-env/lib/python3.7/site-packages/paddle/nn/layer/norm.py:653: UserWarning: When training, we now always track global mean and variance.\n",
      "  \"When training, we now always track global mean and variance.\")\n"
     ]
    },
    {
     "name": "stdout",
     "output_type": "stream",
     "text": [
      "epoch: 0, iter: 0, loss is: [1.8045076], acc is [0.15625] / 0.176\n",
      "----------------涨点了-------------------\n"
     ]
    }
   ],
   "source": [
    "# 定义外层循环\n",
    "maxval = 0\n",
    "for epoch_id in range(EPOCH_NUM):\n",
    "    # 在每轮迭代开始之前，将训练数据的顺序随机的打乱\n",
    "    np.random.shuffle(training_data)\n",
    "    \n",
    "    # 将训练数据进行拆分，每个batch包含10条数据\n",
    "    mini_batches = [training_data[k:k+BATCH_SIZE] for k in range(0, len(training_data), BATCH_SIZE)]\n",
    "    \n",
    "    # 定义内层循环\n",
    "    \n",
    "    for iter_id, mini_batch in enumerate(mini_batches):\n",
    "        \n",
    "        model.train()\n",
    "        x = np.array(mini_batch[:,:, :-1]) # 获得当前批次训练数据\n",
    "        y = np.array(mini_batch[:,:, -1:]) # 获得当前批次训练标签\n",
    "        \n",
    "        # 将numpy数据转为飞桨动态图tensor的格式\n",
    "        features = paddle.to_tensor(x)\n",
    "\n",
    "        y = paddle.to_tensor(y)\n",
    "        \n",
    "        # 前向计算\n",
    "        predicts = model(features)\n",
    "        \n",
    "        # 计算损失\n",
    "        loss = loss_fn(predicts, y.flatten().astype(int))\n",
    "        avg_loss = paddle.mean(loss)\n",
    "\n",
    "        # 反向传播，计算每层参数的梯度值\n",
    "        avg_loss.backward()\n",
    "        # 更新参数，根据设置好的学习率迭代一步\n",
    "        opt.step()\n",
    "        # 清空梯度变量，以备下一轮计算\n",
    "        opt.clear_grad()\n",
    "\n",
    "        # 训练与验证\n",
    "        if iter_id%2000==0 and epoch_id % 10 == 0:\n",
    "            acc = predicts.argmax(1) == y.flatten().astype(int)\n",
    "            acc = acc.astype(float).mean()\n",
    "\n",
    "            model.eval()\n",
    "            val_predict = model(paddle.to_tensor(val_data[:, :, :-1])).argmax(1)\n",
    "            val_label = val_data[:, :, -1]\n",
    "            val_acc = np.mean(val_predict.numpy() == val_label.flatten())\n",
    "            \n",
    "            print(\"epoch: {}, iter: {}, loss is: {}, acc is {} / {}\".format(\n",
    "                epoch_id, iter_id, avg_loss.numpy(), acc.numpy(), val_acc))\n",
    "            if val_acc >= maxval:\n",
    "                print(\"----------------涨点了-------------------\")\n",
    "                maxval = val_acc\n",
    "                model.eval()\n",
    "                test_data = paddle.to_tensor(test_df.values.reshape(-1, 1, 561).astype(np.float32))\n",
    "                test_predict = model(test_data)\n",
    "                test_predict = test_predict.argmax(1).numpy()\n",
    "                test_predict = pd.DataFrame({'Activity': test_predict})\n",
    "                test_predict['Activity'] = test_predict['Activity'].map({\n",
    "                    0:'LAYING',\n",
    "                    1:'STANDING',\n",
    "                    2:'SITTING',\n",
    "                    3:'WALKING',\n",
    "                    4:'WALKING_UPSTAIRS',\n",
    "                    5:'WALKING_DOWNSTAIRS'})\n",
    "                name = 'submission' + str(epoch_id) + \".csv\"\n",
    "                if val_acc>=0.96:                    \n",
    "                    test_predict.to_csv(name, index=None)\n",
    "                \n",
    "\n",
    "\n"
   ]
  }
 ],
 "metadata": {
  "kernelspec": {
   "display_name": "Python 3",
   "language": "python",
   "name": "py35-paddle1.2.0"
  },
  "language_info": {
   "codemirror_mode": {
    "name": "ipython",
    "version": 3
   },
   "file_extension": ".py",
   "mimetype": "text/x-python",
   "name": "python",
   "nbconvert_exporter": "python",
   "pygments_lexer": "ipython3",
   "version": "3.7.4"
  }
 },
 "nbformat": 4,
 "nbformat_minor": 4
}
